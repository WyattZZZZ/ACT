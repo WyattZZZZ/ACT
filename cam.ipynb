{
 "cells": [
  {
   "metadata": {
    "ExecuteTime": {
     "end_time": "2024-12-07T12:24:42.644680Z",
     "start_time": "2024-12-07T12:24:41.537069Z"
    }
   },
   "cell_type": "code",
   "outputs": [],
   "execution_count": 5,
   "source": [
    "import cv2\n",
    "from time import time, sleep\n",
    "from matplotlib import pyplot as plt\n",
    "\n",
    "\n",
    "def capture_and_save_image():\n",
    "    # Initialize the camera (0 is the default camera)\n",
    "    cam = cv2.VideoCapture(1)\n",
    "\n",
    "    # Check if the camera opened successfully\n",
    "    if not cam.isOpened():\n",
    "        raise IOError(\"Cannot open camera\")\n",
    "\n",
    "    for i in range(0):\n",
    "        t0 = time()\n",
    "        # Capture a single frame\n",
    "        _, frame = cam.read()\n",
    "        \n",
    "\n",
    "        # Generate a unique filename with the current date and time\n",
    "        image = cv2.cvtColor(frame, cv2.COLOR_BGR2RGB)\n",
    "        #image = cv2.resize(image, (640, 480), interpolation=cv2.INTER_AREA)\n",
    "        # Define your crop coordinates (top left corner and bottom right corner)\n",
    "        x1, y1 = 400, 000  # Example starting coordinates (top left of the crop rectangle)\n",
    "        x2, y2 = 1600, 900  # Example ending coordinates (bottom right of the crop rectangle)\n",
    "\n",
    "        # Crxp the image\n",
    "        image = image[y1:y2, x1:x2]\n",
    "\n",
    "        image = cv2.resize(image, (640, 480), interpolation=cv2.INTER_AREA)\n",
    "        print(\"Time taken to capture image: {:.4f} seconds\".format(time() - t0))\n",
    "\n",
    "        print(image.shape)\n",
    "        # Save the captured image to the current directory\n",
    "        plt.imshow(image)\n",
    "        sleep(0.04)\n",
    "\n",
    "\n",
    "    # Release the camera\n",
    "    cam.release()\n",
    "\n",
    "# Example usage\n",
    "if __name__ == '__main__':\n",
    "    capture_and_save_image()\n"
   ]
  },
  {
   "metadata": {
    "ExecuteTime": {
     "end_time": "2024-12-07T12:24:32.440396Z",
     "start_time": "2024-12-07T12:24:32.438275Z"
    }
   },
   "cell_type": "code",
   "outputs": [],
   "source": "",
   "execution_count": null
  },
  {
   "metadata": {},
   "cell_type": "code",
   "outputs": [],
   "execution_count": null,
   "source": ""
  }
 ],
 "metadata": {
  "kernelspec": {
   "display_name": "aloha",
   "language": "python",
   "name": "python3"
  },
  "language_info": {
   "codemirror_mode": {
    "name": "ipython",
    "version": 3
   },
   "file_extension": ".py",
   "mimetype": "text/x-python",
   "name": "python",
   "nbconvert_exporter": "python",
   "pygments_lexer": "ipython3",
   "version": "3.9.19"
  }
 },
 "nbformat": 4,
 "nbformat_minor": 2
}
